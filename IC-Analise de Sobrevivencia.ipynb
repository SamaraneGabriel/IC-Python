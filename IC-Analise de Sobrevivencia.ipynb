{
 "cells": [
  {
   "cell_type": "code",
   "execution_count": 90,
   "id": "e549d91f",
   "metadata": {},
   "outputs": [],
   "source": [
    "import pandas as pd\n",
    "import matplotlib.pyplot as plt\n",
    "\n",
    "from sksurv.datasets import load_gbsg2\n",
    "from lifelines import KaplanMeierFitter, CoxPHFitter\n"
   ]
  },
  {
   "cell_type": "code",
   "execution_count": 88,
   "id": "59c40e75",
   "metadata": {
    "scrolled": true
   },
   "outputs": [
    {
     "data": {
      "text/html": [
       "<div>\n",
       "<style scoped>\n",
       "    .dataframe tbody tr th:only-of-type {\n",
       "        vertical-align: middle;\n",
       "    }\n",
       "\n",
       "    .dataframe tbody tr th {\n",
       "        vertical-align: top;\n",
       "    }\n",
       "\n",
       "    .dataframe thead th {\n",
       "        text-align: right;\n",
       "    }\n",
       "</style>\n",
       "<table border=\"1\" class=\"dataframe\">\n",
       "  <thead>\n",
       "    <tr style=\"text-align: right;\">\n",
       "      <th></th>\n",
       "      <th>age</th>\n",
       "      <th>estrec</th>\n",
       "      <th>horTh</th>\n",
       "      <th>menostat</th>\n",
       "      <th>pnodes</th>\n",
       "      <th>progrec</th>\n",
       "      <th>tgrade</th>\n",
       "      <th>tsize</th>\n",
       "    </tr>\n",
       "  </thead>\n",
       "  <tbody>\n",
       "    <tr>\n",
       "      <th>0</th>\n",
       "      <td>70.0</td>\n",
       "      <td>66.0</td>\n",
       "      <td>no</td>\n",
       "      <td>Post</td>\n",
       "      <td>3.0</td>\n",
       "      <td>48.0</td>\n",
       "      <td>II</td>\n",
       "      <td>21.0</td>\n",
       "    </tr>\n",
       "    <tr>\n",
       "      <th>1</th>\n",
       "      <td>56.0</td>\n",
       "      <td>77.0</td>\n",
       "      <td>yes</td>\n",
       "      <td>Post</td>\n",
       "      <td>7.0</td>\n",
       "      <td>61.0</td>\n",
       "      <td>II</td>\n",
       "      <td>12.0</td>\n",
       "    </tr>\n",
       "    <tr>\n",
       "      <th>2</th>\n",
       "      <td>58.0</td>\n",
       "      <td>271.0</td>\n",
       "      <td>yes</td>\n",
       "      <td>Post</td>\n",
       "      <td>9.0</td>\n",
       "      <td>52.0</td>\n",
       "      <td>II</td>\n",
       "      <td>35.0</td>\n",
       "    </tr>\n",
       "    <tr>\n",
       "      <th>3</th>\n",
       "      <td>59.0</td>\n",
       "      <td>29.0</td>\n",
       "      <td>yes</td>\n",
       "      <td>Post</td>\n",
       "      <td>4.0</td>\n",
       "      <td>60.0</td>\n",
       "      <td>II</td>\n",
       "      <td>17.0</td>\n",
       "    </tr>\n",
       "    <tr>\n",
       "      <th>4</th>\n",
       "      <td>73.0</td>\n",
       "      <td>65.0</td>\n",
       "      <td>no</td>\n",
       "      <td>Post</td>\n",
       "      <td>1.0</td>\n",
       "      <td>26.0</td>\n",
       "      <td>II</td>\n",
       "      <td>35.0</td>\n",
       "    </tr>\n",
       "  </tbody>\n",
       "</table>\n",
       "</div>"
      ],
      "text/plain": [
       "    age  estrec horTh menostat  pnodes  progrec tgrade  tsize\n",
       "0  70.0    66.0    no     Post     3.0     48.0     II   21.0\n",
       "1  56.0    77.0   yes     Post     7.0     61.0     II   12.0\n",
       "2  58.0   271.0   yes     Post     9.0     52.0     II   35.0\n",
       "3  59.0    29.0   yes     Post     4.0     60.0     II   17.0\n",
       "4  73.0    65.0    no     Post     1.0     26.0     II   35.0"
      ]
     },
     "execution_count": 88,
     "metadata": {},
     "output_type": "execute_result"
    }
   ],
   "source": [
    "breast_cancer = load_gbsg2()\n",
    "bc_df = breast_cancer[0]\n",
    "bc_df.head()"
   ]
  },
  {
   "cell_type": "code",
   "execution_count": 115,
   "id": "99991230",
   "metadata": {
    "scrolled": false
   },
   "outputs": [
    {
     "data": {
      "text/html": [
       "<div>\n",
       "<style scoped>\n",
       "    .dataframe tbody tr th:only-of-type {\n",
       "        vertical-align: middle;\n",
       "    }\n",
       "\n",
       "    .dataframe tbody tr th {\n",
       "        vertical-align: top;\n",
       "    }\n",
       "\n",
       "    .dataframe thead th {\n",
       "        text-align: right;\n",
       "    }\n",
       "</style>\n",
       "<table border=\"1\" class=\"dataframe\">\n",
       "  <thead>\n",
       "    <tr style=\"text-align: right;\">\n",
       "      <th></th>\n",
       "      <th>morte</th>\n",
       "      <th>tempo</th>\n",
       "      <th>idade</th>\n",
       "      <th>estrec</th>\n",
       "      <th>horTh</th>\n",
       "      <th>menostat</th>\n",
       "      <th>pnodes</th>\n",
       "      <th>progrec</th>\n",
       "      <th>tgrade</th>\n",
       "      <th>tsize</th>\n",
       "    </tr>\n",
       "  </thead>\n",
       "  <tbody>\n",
       "    <tr>\n",
       "      <th>0</th>\n",
       "      <td>True</td>\n",
       "      <td>1814.0</td>\n",
       "      <td>70.0</td>\n",
       "      <td>66.0</td>\n",
       "      <td>no</td>\n",
       "      <td>Post</td>\n",
       "      <td>3.0</td>\n",
       "      <td>48.0</td>\n",
       "      <td>II</td>\n",
       "      <td>21.0</td>\n",
       "    </tr>\n",
       "    <tr>\n",
       "      <th>1</th>\n",
       "      <td>True</td>\n",
       "      <td>2018.0</td>\n",
       "      <td>56.0</td>\n",
       "      <td>77.0</td>\n",
       "      <td>yes</td>\n",
       "      <td>Post</td>\n",
       "      <td>7.0</td>\n",
       "      <td>61.0</td>\n",
       "      <td>II</td>\n",
       "      <td>12.0</td>\n",
       "    </tr>\n",
       "    <tr>\n",
       "      <th>2</th>\n",
       "      <td>True</td>\n",
       "      <td>712.0</td>\n",
       "      <td>58.0</td>\n",
       "      <td>271.0</td>\n",
       "      <td>yes</td>\n",
       "      <td>Post</td>\n",
       "      <td>9.0</td>\n",
       "      <td>52.0</td>\n",
       "      <td>II</td>\n",
       "      <td>35.0</td>\n",
       "    </tr>\n",
       "    <tr>\n",
       "      <th>3</th>\n",
       "      <td>True</td>\n",
       "      <td>1807.0</td>\n",
       "      <td>59.0</td>\n",
       "      <td>29.0</td>\n",
       "      <td>yes</td>\n",
       "      <td>Post</td>\n",
       "      <td>4.0</td>\n",
       "      <td>60.0</td>\n",
       "      <td>II</td>\n",
       "      <td>17.0</td>\n",
       "    </tr>\n",
       "    <tr>\n",
       "      <th>4</th>\n",
       "      <td>True</td>\n",
       "      <td>772.0</td>\n",
       "      <td>73.0</td>\n",
       "      <td>65.0</td>\n",
       "      <td>no</td>\n",
       "      <td>Post</td>\n",
       "      <td>1.0</td>\n",
       "      <td>26.0</td>\n",
       "      <td>II</td>\n",
       "      <td>35.0</td>\n",
       "    </tr>\n",
       "    <tr>\n",
       "      <th>...</th>\n",
       "      <td>...</td>\n",
       "      <td>...</td>\n",
       "      <td>...</td>\n",
       "      <td>...</td>\n",
       "      <td>...</td>\n",
       "      <td>...</td>\n",
       "      <td>...</td>\n",
       "      <td>...</td>\n",
       "      <td>...</td>\n",
       "      <td>...</td>\n",
       "    </tr>\n",
       "    <tr>\n",
       "      <th>681</th>\n",
       "      <td>False</td>\n",
       "      <td>721.0</td>\n",
       "      <td>49.0</td>\n",
       "      <td>84.0</td>\n",
       "      <td>no</td>\n",
       "      <td>Pre</td>\n",
       "      <td>3.0</td>\n",
       "      <td>1.0</td>\n",
       "      <td>III</td>\n",
       "      <td>30.0</td>\n",
       "    </tr>\n",
       "    <tr>\n",
       "      <th>682</th>\n",
       "      <td>False</td>\n",
       "      <td>186.0</td>\n",
       "      <td>53.0</td>\n",
       "      <td>0.0</td>\n",
       "      <td>yes</td>\n",
       "      <td>Post</td>\n",
       "      <td>17.0</td>\n",
       "      <td>0.0</td>\n",
       "      <td>III</td>\n",
       "      <td>25.0</td>\n",
       "    </tr>\n",
       "    <tr>\n",
       "      <th>683</th>\n",
       "      <td>True</td>\n",
       "      <td>769.0</td>\n",
       "      <td>51.0</td>\n",
       "      <td>0.0</td>\n",
       "      <td>no</td>\n",
       "      <td>Pre</td>\n",
       "      <td>5.0</td>\n",
       "      <td>43.0</td>\n",
       "      <td>III</td>\n",
       "      <td>25.0</td>\n",
       "    </tr>\n",
       "    <tr>\n",
       "      <th>684</th>\n",
       "      <td>True</td>\n",
       "      <td>727.0</td>\n",
       "      <td>52.0</td>\n",
       "      <td>34.0</td>\n",
       "      <td>no</td>\n",
       "      <td>Post</td>\n",
       "      <td>3.0</td>\n",
       "      <td>15.0</td>\n",
       "      <td>II</td>\n",
       "      <td>23.0</td>\n",
       "    </tr>\n",
       "    <tr>\n",
       "      <th>685</th>\n",
       "      <td>True</td>\n",
       "      <td>1701.0</td>\n",
       "      <td>55.0</td>\n",
       "      <td>15.0</td>\n",
       "      <td>no</td>\n",
       "      <td>Post</td>\n",
       "      <td>9.0</td>\n",
       "      <td>116.0</td>\n",
       "      <td>II</td>\n",
       "      <td>23.0</td>\n",
       "    </tr>\n",
       "  </tbody>\n",
       "</table>\n",
       "<p>686 rows × 10 columns</p>\n",
       "</div>"
      ],
      "text/plain": [
       "     morte   tempo  idade  estrec horTh menostat  pnodes  progrec tgrade  \\\n",
       "0     True  1814.0   70.0    66.0    no     Post     3.0     48.0     II   \n",
       "1     True  2018.0   56.0    77.0   yes     Post     7.0     61.0     II   \n",
       "2     True   712.0   58.0   271.0   yes     Post     9.0     52.0     II   \n",
       "3     True  1807.0   59.0    29.0   yes     Post     4.0     60.0     II   \n",
       "4     True   772.0   73.0    65.0    no     Post     1.0     26.0     II   \n",
       "..     ...     ...    ...     ...   ...      ...     ...      ...    ...   \n",
       "681  False   721.0   49.0    84.0    no      Pre     3.0      1.0    III   \n",
       "682  False   186.0   53.0     0.0   yes     Post    17.0      0.0    III   \n",
       "683   True   769.0   51.0     0.0    no      Pre     5.0     43.0    III   \n",
       "684   True   727.0   52.0    34.0    no     Post     3.0     15.0     II   \n",
       "685   True  1701.0   55.0    15.0    no     Post     9.0    116.0     II   \n",
       "\n",
       "     tsize  \n",
       "0     21.0  \n",
       "1     12.0  \n",
       "2     35.0  \n",
       "3     17.0  \n",
       "4     35.0  \n",
       "..     ...  \n",
       "681   30.0  \n",
       "682   25.0  \n",
       "683   25.0  \n",
       "684   23.0  \n",
       "685   23.0  \n",
       "\n",
       "[686 rows x 10 columns]"
      ]
     },
     "execution_count": 115,
     "metadata": {},
     "output_type": "execute_result"
    }
   ],
   "source": [
    "#Cria um DF a partir do array de tuplas contendo tempo de vida e indicador booleano de evento (morte) ocorrido\n",
    "array = breast_cancer[1]\n",
    "df = pd.DataFrame(array)\n",
    "\n",
    "#Realiza um INNER JOIN com os DF pela coluna index, que representa cada paciente\n",
    "\n",
    "df_final = pd.merge(df, bc_df, left_index = True, right_index = True, how = \"inner\")\n",
    "\n",
    "#Altera o nome das colunas\n",
    "df_final.rename(columns = {'cens' : 'morte', 'time' : 'tempo', 'age' : 'idade'}, inplace = True)\n",
    "df_final"
   ]
  },
  {
   "cell_type": "code",
   "execution_count": 126,
   "id": "b73fd2bf",
   "metadata": {},
   "outputs": [
    {
     "data": {
      "text/html": [
       "<div>\n",
       "<style scoped>\n",
       "    .dataframe tbody tr th:only-of-type {\n",
       "        vertical-align: middle;\n",
       "    }\n",
       "\n",
       "    .dataframe tbody tr th {\n",
       "        vertical-align: top;\n",
       "    }\n",
       "\n",
       "    .dataframe thead th {\n",
       "        text-align: right;\n",
       "    }\n",
       "</style>\n",
       "<table border=\"1\" class=\"dataframe\">\n",
       "  <thead>\n",
       "    <tr style=\"text-align: right;\">\n",
       "      <th></th>\n",
       "      <th>tempo</th>\n",
       "      <th>idade</th>\n",
       "      <th>estrec</th>\n",
       "      <th>pnodes</th>\n",
       "      <th>progrec</th>\n",
       "      <th>tsize</th>\n",
       "    </tr>\n",
       "  </thead>\n",
       "  <tbody>\n",
       "    <tr>\n",
       "      <th>count</th>\n",
       "      <td>686.000000</td>\n",
       "      <td>686.000000</td>\n",
       "      <td>686.000000</td>\n",
       "      <td>686.000000</td>\n",
       "      <td>686.000000</td>\n",
       "      <td>686.000000</td>\n",
       "    </tr>\n",
       "    <tr>\n",
       "      <th>mean</th>\n",
       "      <td>1124.489796</td>\n",
       "      <td>53.052478</td>\n",
       "      <td>96.252187</td>\n",
       "      <td>5.010204</td>\n",
       "      <td>109.995627</td>\n",
       "      <td>29.329446</td>\n",
       "    </tr>\n",
       "    <tr>\n",
       "      <th>std</th>\n",
       "      <td>642.791948</td>\n",
       "      <td>10.120739</td>\n",
       "      <td>153.083963</td>\n",
       "      <td>5.475483</td>\n",
       "      <td>202.331552</td>\n",
       "      <td>14.296217</td>\n",
       "    </tr>\n",
       "    <tr>\n",
       "      <th>min</th>\n",
       "      <td>8.000000</td>\n",
       "      <td>21.000000</td>\n",
       "      <td>0.000000</td>\n",
       "      <td>1.000000</td>\n",
       "      <td>0.000000</td>\n",
       "      <td>3.000000</td>\n",
       "    </tr>\n",
       "    <tr>\n",
       "      <th>25%</th>\n",
       "      <td>567.750000</td>\n",
       "      <td>46.000000</td>\n",
       "      <td>8.000000</td>\n",
       "      <td>1.000000</td>\n",
       "      <td>7.000000</td>\n",
       "      <td>20.000000</td>\n",
       "    </tr>\n",
       "    <tr>\n",
       "      <th>50%</th>\n",
       "      <td>1084.000000</td>\n",
       "      <td>53.000000</td>\n",
       "      <td>36.000000</td>\n",
       "      <td>3.000000</td>\n",
       "      <td>32.500000</td>\n",
       "      <td>25.000000</td>\n",
       "    </tr>\n",
       "    <tr>\n",
       "      <th>75%</th>\n",
       "      <td>1684.750000</td>\n",
       "      <td>61.000000</td>\n",
       "      <td>114.000000</td>\n",
       "      <td>7.000000</td>\n",
       "      <td>131.750000</td>\n",
       "      <td>35.000000</td>\n",
       "    </tr>\n",
       "    <tr>\n",
       "      <th>max</th>\n",
       "      <td>2659.000000</td>\n",
       "      <td>80.000000</td>\n",
       "      <td>1144.000000</td>\n",
       "      <td>51.000000</td>\n",
       "      <td>2380.000000</td>\n",
       "      <td>120.000000</td>\n",
       "    </tr>\n",
       "  </tbody>\n",
       "</table>\n",
       "</div>"
      ],
      "text/plain": [
       "             tempo       idade       estrec      pnodes      progrec  \\\n",
       "count   686.000000  686.000000   686.000000  686.000000   686.000000   \n",
       "mean   1124.489796   53.052478    96.252187    5.010204   109.995627   \n",
       "std     642.791948   10.120739   153.083963    5.475483   202.331552   \n",
       "min       8.000000   21.000000     0.000000    1.000000     0.000000   \n",
       "25%     567.750000   46.000000     8.000000    1.000000     7.000000   \n",
       "50%    1084.000000   53.000000    36.000000    3.000000    32.500000   \n",
       "75%    1684.750000   61.000000   114.000000    7.000000   131.750000   \n",
       "max    2659.000000   80.000000  1144.000000   51.000000  2380.000000   \n",
       "\n",
       "            tsize  \n",
       "count  686.000000  \n",
       "mean    29.329446  \n",
       "std     14.296217  \n",
       "min      3.000000  \n",
       "25%     20.000000  \n",
       "50%     25.000000  \n",
       "75%     35.000000  \n",
       "max    120.000000  "
      ]
     },
     "execution_count": 126,
     "metadata": {},
     "output_type": "execute_result"
    }
   ],
   "source": [
    "df_final.describe()"
   ]
  },
  {
   "cell_type": "code",
   "execution_count": 116,
   "id": "93857642",
   "metadata": {},
   "outputs": [
    {
     "data": {
      "text/plain": [
       "<lifelines.KaplanMeierFitter>"
      ]
     },
     "execution_count": 116,
     "metadata": {},
     "output_type": "execute_result"
    }
   ],
   "source": [
    "#Objeto estimador Kaplan Meier\n",
    "kmf = KaplanMeierFitter()\n",
    "kmf"
   ]
  },
  {
   "cell_type": "code",
   "execution_count": 123,
   "id": "0084301a",
   "metadata": {},
   "outputs": [
    {
     "data": {
      "text/plain": [
       "Text(0, 0.5, 'Probabilidade de Sobreviver')"
      ]
     },
     "execution_count": 123,
     "metadata": {},
     "output_type": "execute_result"
    },
    {
     "data": {
      "image/png": "[encoded data removed]",
      "text/plain": [
       "<Figure size 432x288 with 1 Axes>"
      ]
     },
     "metadata": {
      "needs_background": "light"
     },
     "output_type": "display_data"
    }
   ],
   "source": [
    "#Grafico estimador de sobreviencia usando KMF\n",
    "\n",
    "kmf.fit(durations = df_final['tempo'], event_observed = df_final['morte'])\n",
    "kmf.plot()\n",
    "plt.title(\"KMF\")\n",
    "plt.xlabel(\"Tempo\")\n",
    "plt.ylabel(\"Probabilidade de Sobreviver\")"
   ]
  },
  {
   "cell_type": "code",
   "execution_count": 156,
   "id": "6b068301",
   "metadata": {},
   "outputs": [],
   "source": [
    "#Filtragem por outros parametros (idade)\n",
    "\n",
    "df_acima_50 = df_final[df_final['idade'] > 50]\n",
    "df_abaixo_50 = df_final[df_final['idade'] <= 50]\n",
    "\n",
    "kmf_maior_50 = KaplanMeierFitter()\n",
    "kmf_menor_50 = KaplanMeierFitter()\n"
   ]
  },
  {
   "cell_type": "code",
   "execution_count": 153,
   "id": "9923ca9c",
   "metadata": {},
   "outputs": [
    {
     "data": {
      "text/plain": [
       "Text(0, 0.5, 'Probabilidade de Sobreviver')"
      ]
     },
     "execution_count": 153,
     "metadata": {},
     "output_type": "execute_result"
    },
    {
     "data": {
      "image/png": "[encoded data removed]",
      "text/plain": [
       "<Figure size 432x288 with 1 Axes>"
      ]
     },
     "metadata": {
      "needs_background": "light"
     },
     "output_type": "display_data"
    }
   ],
   "source": [
    "#Estimativa KMF para pacientes com mais de 50 anos\n",
    "\n",
    "kmf_maior_50.fit(durations = df_acima_50['tempo'], event_observed = df_acima_50['morte'], label = \"maior_50\")\n",
    "kmf_maior_50.plot()\n",
    "plt.title(\"KMF para idades maiores que 50\")\n",
    "plt.xlabel(\"Tempo\")\n",
    "plt.ylabel(\"Probabilidade de Sobreviver\")"
   ]
  },
  {
   "cell_type": "code",
   "execution_count": 154,
   "id": "b2954eb7",
   "metadata": {},
   "outputs": [
    {
     "data": {
      "text/plain": [
       "Text(0, 0.5, 'Probabilidade de Sobreviver')"
      ]
     },
     "execution_count": 154,
     "metadata": {},
     "output_type": "execute_result"
    },
    {
     "data": {
      "image/png": "[encoded data removed]",
      "text/plain": [
       "<Figure size 432x288 with 1 Axes>"
      ]
     },
     "metadata": {
      "needs_background": "light"
     },
     "output_type": "display_data"
    }
   ],
   "source": [
    "#Estimativa KMF para pacientes com menos de 50 anos\n",
    "\n",
    "kmf_menor_50.fit(durations = df_abaixo_50['tempo'], event_observed = df_abaixo_50['morte'], label = \"menor_50\")\n",
    "kmf_menor_50.plot()\n",
    "plt.title(\"KMF para idades menores que 50\")\n",
    "plt.xlabel(\"Tempo\")\n",
    "plt.ylabel(\"Probabilidade de Sobreviver\")"
   ]
  },
  {
   "cell_type": "code",
   "execution_count": 155,
   "id": "9b06170f",
   "metadata": {
    "scrolled": true
   },
   "outputs": [
    {
     "data": {
      "text/plain": [
       "Text(0.5, 1.0, 'KMF comparando idades maiores e menores ou iguais')"
      ]
     },
     "execution_count": 155,
     "metadata": {},
     "output_type": "execute_result"
    },
    {
     "data": {
      "image/png": "[encoded data removed]",
      "text/plain": [
       "<Figure size 432x288 with 1 Axes>"
      ]
     },
     "metadata": {
      "needs_background": "light"
     },
     "output_type": "display_data"
    }
   ],
   "source": [
    "kmf_menor_50.plot()\n",
    "kmf_maior_50.plot()\n",
    "plt.xlabel(\"Tempo\") \n",
    "plt.ylabel(\"Probabilidade de Sobrevivência\") \n",
    "plt.title(\"KMF comparando idades maiores e menores ou iguais\")"
   ]
  },
  {
   "cell_type": "code",
   "execution_count": 158,
   "id": "89bc214a",
   "metadata": {},
   "outputs": [
    {
     "name": "stdout",
     "output_type": "stream",
     "text": [
      "A probabilidade de sobrevivência após 1000 dias é: \n",
      "0.6690764450542454\n",
      "A probabilidade de sobrevivência após 2000 dias é: \n",
      "0.5417627232338974\n"
     ]
    }
   ],
   "source": [
    "#Previsões para determinados instantes de tempo\n",
    "\n",
    "prob_1 = kmf.predict(1000)\n",
    "\n",
    "prob_2 = kmf.predict(2000)\n",
    "\n",
    "print(\"A probabilidade de sobrevivência após 1000 dias é: \")\n",
    "print(prob_1)\n",
    "\n",
    "print(\"A probabilidade de sobrevivência após 2000 dias é: \")\n",
    "print(prob_2)"
   ]
  }
 ],
 "metadata": {
  "kernelspec": {
   "display_name": "Python 3",
   "language": "python",
   "name": "python3"
  },
  "language_info": {
   "codemirror_mode": {
    "name": "ipython",
    "version": 3
   },
   "file_extension": ".py",
   "mimetype": "text/x-python",
   "name": "python",
   "nbconvert_exporter": "python",
   "pygments_lexer": "ipython3",
   "version": "3.8.8"
  }
 },
 "nbformat": 4,
 "nbformat_minor": 5
}
